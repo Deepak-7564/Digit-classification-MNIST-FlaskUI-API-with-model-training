{
 "cells": [
  {
   "cell_type": "code",
   "execution_count": null,
   "metadata": {},
   "outputs": [],
   "source": [
    "import base64\n",
    "\n",
    "with open(\"path_to_your_image.jpg\", \"rb\") as image_file:\n",
    "    encoded_string = base64.b64encode(image_file.read()).decode('utf-8')\n",
    "\n",
    "print(encoded_string)\n"
   ]
  },
  {
   "cell_type": "code",
   "execution_count": null,
   "metadata": {},
   "outputs": [],
   "source": [
    "import base64\n",
    "from PIL import Image\n",
    "from io import BytesIO\n",
    "\n",
    "def base64_to_image(base64_string):\n",
    "    # Decode the Base64 string to bytes\n",
    "    image_data = base64.b64decode(base64_string)\n",
    "\n",
    "    # Create a BytesIO object to work with PIL\n",
    "    image_buffer = BytesIO(image_data)\n",
    "\n",
    "    # Open the image using PIL\n",
    "    image = Image.open(image_buffer)\n",
    "\n",
    "    return image\n",
    "\n",
    "# Example Base64-encoded string (replace this with your actual Base64 string)\n",
    "base64_string = \"Base64 text\"\n",
    "\n",
    "# Convert Base64 to image\n",
    "result_image = base64_to_image(base64_string)\n",
    "\n",
    "# Display the image (optional)\n",
    "result_image.show()\n",
    "\n",
    "# Save the image to a file (optional)\n",
    "result_image.save(\"output_image.jpg\")\n"
   ]
  }
 ],
 "metadata": {
  "language_info": {
   "name": "python"
  }
 },
 "nbformat": 4,
 "nbformat_minor": 2
}
